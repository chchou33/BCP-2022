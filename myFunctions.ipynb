{
  "nbformat": 4,
  "nbformat_minor": 0,
  "metadata": {
    "colab": {
      "name": "myFunctions.ipynb",
      "provenance": [],
      "authorship_tag": "ABX9TyNncIqdnwT+YQRdPthrdUpy",
      "include_colab_link": true
    },
    "kernelspec": {
      "name": "python3",
      "display_name": "Python 3"
    },
    "language_info": {
      "name": "python"
    }
  },
  "cells": [
    {
      "cell_type": "markdown",
      "metadata": {
        "id": "view-in-github",
        "colab_type": "text"
      },
      "source": [
        "<a href=\"https://colab.research.google.com/github/chchou33/BCP-2022/blob/main/myFunctions.ipynb\" target=\"_parent\"><img src=\"https://colab.research.google.com/assets/colab-badge.svg\" alt=\"Open In Colab\"/></a>"
      ]
    },
    {
      "cell_type": "code",
      "execution_count": 1,
      "metadata": {
        "id": "RDyZZ0UrCU7M"
      },
      "outputs": [],
      "source": [
        "def DoubleHello():\n",
        "  print('Hello World!')\n",
        "  print('Hello World!')"
      ]
    }
  ]
}